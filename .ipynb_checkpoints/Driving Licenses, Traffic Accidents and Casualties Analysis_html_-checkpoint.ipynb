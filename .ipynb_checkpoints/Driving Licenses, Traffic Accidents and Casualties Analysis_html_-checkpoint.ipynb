{
 "cells": [
  {
   "cell_type": "markdown",
   "metadata": {},
   "source": [
    "## Driving Licenses, Traffic Accidents and Casualties Analysis"
   ]
  },
  {
   "cell_type": "code",
   "execution_count": 2,
   "metadata": {},
   "outputs": [],
   "source": [
    "#Imports\n",
    "\n",
    "import numpy as np\n",
    "import pandas as pd\n",
    "import patsy\n",
    "\n",
    "from sklearn.linear_model import Ridge, Lasso, ElasticNet, LinearRegression, RidgeCV, LassoCV, ElasticNetCV\n",
    "from sklearn.model_selection import cross_val_score\n",
    "\n",
    "import matplotlib\n",
    "import matplotlib.pyplot as plt\n",
    "import seaborn as sns\n",
    "sns.set(font_scale=1)\n",
    "plt.style.use('fivethirtyeight')\n",
    "\n",
    "%config InlineBackend.figure_format = 'retina'\n",
    "%matplotlib inline"
   ]
  },
  {
   "cell_type": "markdown",
   "metadata": {},
   "source": [
    "## Datasets Description\n",
    "\n",
    "[Driving Licenses](https://datasource.kapsarc.org/explore/dataset/saudi-arabia-driving-licenses-issued-in-the-kingdom-2004-2008/information/?disjunctive.administritive_area&sort=time_period&location=5,24.37495,45.08024&basemap=jawg.streets)\n",
    "This dataset contains Saudi Arabia Driving Licenses Issued By Administrative Area for 1993 - 2016. Data from General Authority for Statistics . Follow datasource.kapsarc.org for timely data to advance energy economics research.\n",
    "\n",
    "[Traffic Accidents and Casualties](https://datasource.kapsarc.org/explore/dataset/saudi-arabia-traffic-accidents-and-casualties-injured-dead-2008/export/?disjunctive.region&disjunctive.indicator&sort=time_period)\n",
    "This dataset contains Saudi Arabia Traffic Accidents and Casualties by Region for 2016. Data from General Authority for Statistics. Follow datasource.kapsarc.org for timely data to advance energy economics research.\n"
   ]
  },
  {
   "cell_type": "code",
   "execution_count": 4,
   "metadata": {
    "scrolled": true
   },
   "outputs": [
    {
     "data": {
      "text/html": [
       "<div>\n",
       "<style scoped>\n",
       "    .dataframe tbody tr th:only-of-type {\n",
       "        vertical-align: middle;\n",
       "    }\n",
       "\n",
       "    .dataframe tbody tr th {\n",
       "        vertical-align: top;\n",
       "    }\n",
       "\n",
       "    .dataframe thead th {\n",
       "        text-align: right;\n",
       "    }\n",
       "</style>\n",
       "<table border=\"1\" class=\"dataframe\">\n",
       "  <thead>\n",
       "    <tr style=\"text-align: right;\">\n",
       "      <th></th>\n",
       "      <th>Unnamed: 0</th>\n",
       "      <th>Unnamed: 0.1</th>\n",
       "      <th>Year</th>\n",
       "      <th>Region</th>\n",
       "      <th>Indicator</th>\n",
       "      <th>Value</th>\n",
       "      <th>geo_point_2d</th>\n",
       "    </tr>\n",
       "  </thead>\n",
       "  <tbody>\n",
       "    <tr>\n",
       "      <th>0</th>\n",
       "      <td>0</td>\n",
       "      <td>0</td>\n",
       "      <td>(2016)</td>\n",
       "      <td>Makkah</td>\n",
       "      <td>No. of Casualties - Injured</td>\n",
       "      <td>12383n</td>\n",
       "      <td>21.628962766, 41.2636898334</td>\n",
       "    </tr>\n",
       "    <tr>\n",
       "      <th>1</th>\n",
       "      <td>1</td>\n",
       "      <td>1</td>\n",
       "      <td>(2016)</td>\n",
       "      <td>Eastern Region</td>\n",
       "      <td>No. of Casualties - Dead</td>\n",
       "      <td>1113n</td>\n",
       "      <td>23.2883307307, 50.1478302439</td>\n",
       "    </tr>\n",
       "    <tr>\n",
       "      <th>2</th>\n",
       "      <td>2</td>\n",
       "      <td>2</td>\n",
       "      <td>(2016)</td>\n",
       "      <td>Tabouk</td>\n",
       "      <td>No. of Casualties - Dead</td>\n",
       "      <td>434n</td>\n",
       "      <td>27.90165499, 37.2598581394</td>\n",
       "    </tr>\n",
       "    <tr>\n",
       "      <th>3</th>\n",
       "      <td>3</td>\n",
       "      <td>3</td>\n",
       "      <td>(2016)</td>\n",
       "      <td>Hail</td>\n",
       "      <td>No. of Casualties - Dead</td>\n",
       "      <td>299n</td>\n",
       "      <td>27.400845724, 41.4406960508</td>\n",
       "    </tr>\n",
       "    <tr>\n",
       "      <th>4</th>\n",
       "      <td>4</td>\n",
       "      <td>4</td>\n",
       "      <td>(2016)</td>\n",
       "      <td>Hail</td>\n",
       "      <td>No. of Accidents</td>\n",
       "      <td>10199n</td>\n",
       "      <td>27.400845724, 41.4406960508</td>\n",
       "    </tr>\n",
       "    <tr>\n",
       "      <th>5</th>\n",
       "      <td>5</td>\n",
       "      <td>5</td>\n",
       "      <td>(2016)</td>\n",
       "      <td>Northern Boarder</td>\n",
       "      <td>No. of Casualties - Dead</td>\n",
       "      <td>193n</td>\n",
       "      <td>30.197074783, 41.8171186952</td>\n",
       "    </tr>\n",
       "    <tr>\n",
       "      <th>6</th>\n",
       "      <td>6</td>\n",
       "      <td>6</td>\n",
       "      <td>(2017)</td>\n",
       "      <td>Jazan</td>\n",
       "      <td>No. of Accidents</td>\n",
       "      <td>22161n</td>\n",
       "      <td>17.2072313962, 42.6525807422</td>\n",
       "    </tr>\n",
       "    <tr>\n",
       "      <th>7</th>\n",
       "      <td>7</td>\n",
       "      <td>7</td>\n",
       "      <td>(2017)</td>\n",
       "      <td>Al-Jouf</td>\n",
       "      <td>No. of Accidents</td>\n",
       "      <td>10469n</td>\n",
       "      <td>29.9677445762, 39.5570371172</td>\n",
       "    </tr>\n",
       "    <tr>\n",
       "      <th>8</th>\n",
       "      <td>8</td>\n",
       "      <td>8</td>\n",
       "      <td>(2017)</td>\n",
       "      <td>Total</td>\n",
       "      <td>No. of Casualties - Dead</td>\n",
       "      <td>7489n</td>\n",
       "      <td>NaN</td>\n",
       "    </tr>\n",
       "    <tr>\n",
       "      <th>9</th>\n",
       "      <td>9</td>\n",
       "      <td>9</td>\n",
       "      <td>(2016)</td>\n",
       "      <td>Northern Boarder</td>\n",
       "      <td>No. of Casualties - Injured</td>\n",
       "      <td>631n</td>\n",
       "      <td>30.197074783, 41.8171186952</td>\n",
       "    </tr>\n",
       "  </tbody>\n",
       "</table>\n",
       "</div>"
      ],
      "text/plain": [
       "   Unnamed: 0  Unnamed: 0.1    Year            Region  \\\n",
       "0           0             0  (2016)            Makkah   \n",
       "1           1             1  (2016)    Eastern Region   \n",
       "2           2             2  (2016)            Tabouk   \n",
       "3           3             3  (2016)              Hail   \n",
       "4           4             4  (2016)              Hail   \n",
       "5           5             5  (2016)  Northern Boarder   \n",
       "6           6             6  (2017)             Jazan   \n",
       "7           7             7  (2017)           Al-Jouf   \n",
       "8           8             8  (2017)             Total   \n",
       "9           9             9  (2016)  Northern Boarder   \n",
       "\n",
       "                     Indicator   Value                  geo_point_2d  \n",
       "0  No. of Casualties - Injured  12383n   21.628962766, 41.2636898334  \n",
       "1     No. of Casualties - Dead   1113n  23.2883307307, 50.1478302439  \n",
       "2     No. of Casualties - Dead    434n    27.90165499, 37.2598581394  \n",
       "3     No. of Casualties - Dead    299n   27.400845724, 41.4406960508  \n",
       "4             No. of Accidents  10199n   27.400845724, 41.4406960508  \n",
       "5     No. of Casualties - Dead    193n   30.197074783, 41.8171186952  \n",
       "6             No. of Accidents  22161n  17.2072313962, 42.6525807422  \n",
       "7             No. of Accidents  10469n  29.9677445762, 39.5570371172  \n",
       "8     No. of Casualties - Dead   7489n                           NaN  \n",
       "9  No. of Casualties - Injured    631n   30.197074783, 41.8171186952  "
      ]
     },
     "execution_count": 4,
     "metadata": {},
     "output_type": "execute_result"
    }
   ],
   "source": [
    "#KSA_traffic df"
   ]
  },
  {
   "cell_type": "code",
   "execution_count": 5,
   "metadata": {
    "scrolled": true
   },
   "outputs": [
    {
     "data": {
      "text/html": [
       "<div>\n",
       "<style scoped>\n",
       "    .dataframe tbody tr th:only-of-type {\n",
       "        vertical-align: middle;\n",
       "    }\n",
       "\n",
       "    .dataframe tbody tr th {\n",
       "        vertical-align: top;\n",
       "    }\n",
       "\n",
       "    .dataframe thead th {\n",
       "        text-align: right;\n",
       "    }\n",
       "</style>\n",
       "<table border=\"1\" class=\"dataframe\">\n",
       "  <thead>\n",
       "    <tr style=\"text-align: right;\">\n",
       "      <th></th>\n",
       "      <th>Unnamed: 0</th>\n",
       "      <th>Year</th>\n",
       "      <th>Administritive Area</th>\n",
       "      <th>Driving Liceses</th>\n",
       "      <th>geo_point_2d</th>\n",
       "    </tr>\n",
       "  </thead>\n",
       "  <tbody>\n",
       "    <tr>\n",
       "      <th>0</th>\n",
       "      <td>0</td>\n",
       "      <td>(2012)</td>\n",
       "      <td>Makkah</td>\n",
       "      <td>143954n</td>\n",
       "      <td>21.628962766, 41.2636898334</td>\n",
       "    </tr>\n",
       "    <tr>\n",
       "      <th>1</th>\n",
       "      <td>1</td>\n",
       "      <td>(1994)</td>\n",
       "      <td>Makkah</td>\n",
       "      <td>75349n</td>\n",
       "      <td>21.628962766, 41.2636898334</td>\n",
       "    </tr>\n",
       "    <tr>\n",
       "      <th>2</th>\n",
       "      <td>2</td>\n",
       "      <td>(1998)</td>\n",
       "      <td>Makkah</td>\n",
       "      <td>86082n</td>\n",
       "      <td>21.628962766, 41.2636898334</td>\n",
       "    </tr>\n",
       "    <tr>\n",
       "      <th>3</th>\n",
       "      <td>3</td>\n",
       "      <td>(2004)</td>\n",
       "      <td>Makkah</td>\n",
       "      <td>86636n</td>\n",
       "      <td>21.628962766, 41.2636898334</td>\n",
       "    </tr>\n",
       "    <tr>\n",
       "      <th>4</th>\n",
       "      <td>4</td>\n",
       "      <td>(2005)</td>\n",
       "      <td>Makkah</td>\n",
       "      <td>65099n</td>\n",
       "      <td>21.628962766, 41.2636898334</td>\n",
       "    </tr>\n",
       "    <tr>\n",
       "      <th>5</th>\n",
       "      <td>5</td>\n",
       "      <td>(2008)</td>\n",
       "      <td>Makkah</td>\n",
       "      <td>77013n</td>\n",
       "      <td>21.628962766, 41.2636898334</td>\n",
       "    </tr>\n",
       "    <tr>\n",
       "      <th>6</th>\n",
       "      <td>6</td>\n",
       "      <td>(2014)</td>\n",
       "      <td>Madinah</td>\n",
       "      <td>31447n</td>\n",
       "      <td>24.927534539, 39.4918237173</td>\n",
       "    </tr>\n",
       "    <tr>\n",
       "      <th>7</th>\n",
       "      <td>7</td>\n",
       "      <td>(2013)</td>\n",
       "      <td>Madinah</td>\n",
       "      <td>28513n</td>\n",
       "      <td>24.927534539, 39.4918237173</td>\n",
       "    </tr>\n",
       "    <tr>\n",
       "      <th>8</th>\n",
       "      <td>8</td>\n",
       "      <td>(2012)</td>\n",
       "      <td>Madinah</td>\n",
       "      <td>14459n</td>\n",
       "      <td>24.927534539, 39.4918237173</td>\n",
       "    </tr>\n",
       "    <tr>\n",
       "      <th>9</th>\n",
       "      <td>9</td>\n",
       "      <td>(1994)</td>\n",
       "      <td>Madinah</td>\n",
       "      <td>3767n</td>\n",
       "      <td>24.927534539, 39.4918237173</td>\n",
       "    </tr>\n",
       "  </tbody>\n",
       "</table>\n",
       "</div>"
      ],
      "text/plain": [
       "   Unnamed: 0    Year Administritive Area Driving Liceses  \\\n",
       "0           0  (2012)              Makkah         143954n   \n",
       "1           1  (1994)              Makkah          75349n   \n",
       "2           2  (1998)              Makkah          86082n   \n",
       "3           3  (2004)              Makkah          86636n   \n",
       "4           4  (2005)              Makkah          65099n   \n",
       "5           5  (2008)              Makkah          77013n   \n",
       "6           6  (2014)             Madinah          31447n   \n",
       "7           7  (2013)             Madinah          28513n   \n",
       "8           8  (2012)             Madinah          14459n   \n",
       "9           9  (1994)             Madinah           3767n   \n",
       "\n",
       "                  geo_point_2d  \n",
       "0  21.628962766, 41.2636898334  \n",
       "1  21.628962766, 41.2636898334  \n",
       "2  21.628962766, 41.2636898334  \n",
       "3  21.628962766, 41.2636898334  \n",
       "4  21.628962766, 41.2636898334  \n",
       "5  21.628962766, 41.2636898334  \n",
       "6  24.927534539, 39.4918237173  \n",
       "7  24.927534539, 39.4918237173  \n",
       "8  24.927534539, 39.4918237173  \n",
       "9  24.927534539, 39.4918237173  "
      ]
     },
     "execution_count": 5,
     "metadata": {},
     "output_type": "execute_result"
    }
   ],
   "source": [
    "#KSA_driving df"
   ]
  },
  {
   "cell_type": "markdown",
   "metadata": {},
   "source": [
    "#### 3. Briefly describe the data\n",
    "\n",
    "Take your time looking through the data and briefly describe the data in the markdown cell below. Note things about what the columns might mean, and the general information that is conveyed in the dataframe."
   ]
  },
  {
   "cell_type": "markdown",
   "metadata": {},
   "source": [
    "Answer: for 'saudi-arabia-traffic-accidents' data:\n",
    "         the data had been listed as long dataframe, with 84 rows and only one column.\n",
    "         it contains data about each region of saudi arabia and it's number of accidents and Casualites for 2016 and 2017 as I see. plus there is a colum I can't really tell about it which is 'geo_point_2d' but as it labeled it may mean the region postion and after I displyed the data 2 column showd up (\tUnnamed: 0\tUnnamed: 0.1 ) it has no meaning and big chance that I'm gonna delet them "
   ]
  },
  {
   "cell_type": "markdown",
   "metadata": {},
   "source": [
    "Answer: for 'saudi-arabia_Driving_Liceses' data: the data had been listed as wide dataframe, with 325 rows and 5 column. it contains data about each region of saudi arabia and it's number Driving_Liceses from 1993 tell 2017. the same column 'geo_point_2d' showed up here which make me belive that it's the region postion. and the unmane column too "
   ]
  },
  {
   "cell_type": "code",
   "execution_count": 6,
   "metadata": {
    "scrolled": true
   },
   "outputs": [
    {
     "name": "stdout",
     "output_type": "stream",
     "text": [
      "KSA traffic missing values:\n",
      "Unnamed: 0      0\n",
      "Unnamed: 0.1    0\n",
      "Year            0\n",
      "Region          0\n",
      "Indicator       0\n",
      "Value           0\n",
      "geo_point_2d    6\n",
      "dtype: int64\n",
      "\n",
      " KSA drving missing values:\n",
      " Unnamed: 0              0\n",
      "Year                    0\n",
      "Administritive Area     0\n",
      "Driving Liceses         0\n",
      "geo_point_2d           25\n",
      "dtype: int64\n"
     ]
    }
   ],
   "source": []
  },
  {
   "cell_type": "code",
   "execution_count": 7,
   "metadata": {
    "scrolled": true
   },
   "outputs": [
    {
     "name": "stdout",
     "output_type": "stream",
     "text": [
      "dtypes of KSA driving df are:\n",
      " Unnamed: 0              int64\n",
      "Year                   object\n",
      "Administritive Area    object\n",
      "Driving Liceses        object\n",
      "geo_point_2d           object\n",
      "dtype: object \n",
      "\n",
      " dtypes of KSA traffic df are:\n",
      " Unnamed: 0       int64\n",
      "Unnamed: 0.1     int64\n",
      "Year            object\n",
      "Region          object\n",
      "Indicator       object\n",
      "Value           object\n",
      "geo_point_2d    object\n",
      "dtype: object \n",
      "\n",
      "\n"
     ]
    }
   ],
   "source": []
  },
  {
   "cell_type": "markdown",
   "metadata": {},
   "source": [
    "\n",
    "> 1- there is many columns in both datasetes need to reset the type and fix the way of which the columns' value written\n",
    "\n",
    "> 2- Accidents dataset need to be formatted to wide so we can take a good look and better way of handling it's data"
   ]
  },
  {
   "cell_type": "markdown",
   "metadata": {},
   "source": [
    "\n",
    "#### clean  columns' values for both dfs :\n",
    "* Removing the parentheses and the 'n' latter from both dfs. \n",
    "* Make new columns x and y using geo_point_2d\n",
    "* Drop unnecessary columns like (`'Unnamed: 0'`,`'Unnamed: 0.1'`,`'geo_point_2d'`)"
   ]
  },
  {
   "cell_type": "code",
   "execution_count": 12,
   "metadata": {
    "scrolled": false
   },
   "outputs": [],
   "source": [
    "# traffic data\n",
    "KSA_traffic_df['Year']= KSA_traffic_df['Year'].apply(lambda x: x.replace('(',''))\n",
    "KSA_traffic_df['Year']= KSA_traffic_df['Year'].apply(lambda x: x.replace(')',''))\n",
    "KSA_traffic_df['Value']= KSA_traffic_df['Value'].apply(lambda x: x.replace('n',''))"
   ]
  },
  {
   "cell_type": "code",
   "execution_count": 13,
   "metadata": {},
   "outputs": [],
   "source": [
    "# driving data\n",
    "KSA_driving_df['Year']= KSA_driving_df['Year'].apply(lambda x: x.replace('(',''))\n",
    "KSA_driving_df['Year']= KSA_driving_df['Year'].apply(lambda x: x.replace(')',''))\n",
    "KSA_driving_df['Driving Liceses']= KSA_driving_df['Driving Liceses'].apply(lambda x: x.replace('n',''))"
   ]
  },
  {
   "cell_type": "code",
   "execution_count": 21,
   "metadata": {},
   "outputs": [
    {
     "data": {
      "text/html": [
       "<div>\n",
       "<style scoped>\n",
       "    .dataframe tbody tr th:only-of-type {\n",
       "        vertical-align: middle;\n",
       "    }\n",
       "\n",
       "    .dataframe tbody tr th {\n",
       "        vertical-align: top;\n",
       "    }\n",
       "\n",
       "    .dataframe thead th {\n",
       "        text-align: right;\n",
       "    }\n",
       "</style>\n",
       "<table border=\"1\" class=\"dataframe\">\n",
       "  <thead>\n",
       "    <tr style=\"text-align: right;\">\n",
       "      <th></th>\n",
       "      <th>Year</th>\n",
       "      <th>Administritive Area</th>\n",
       "      <th>Driving Liceses</th>\n",
       "      <th>y</th>\n",
       "      <th>x</th>\n",
       "    </tr>\n",
       "  </thead>\n",
       "  <tbody>\n",
       "    <tr>\n",
       "      <th>0</th>\n",
       "      <td>2012</td>\n",
       "      <td>Makkah</td>\n",
       "      <td>143954</td>\n",
       "      <td>21.628962766</td>\n",
       "      <td>41.2636898334</td>\n",
       "    </tr>\n",
       "    <tr>\n",
       "      <th>1</th>\n",
       "      <td>1994</td>\n",
       "      <td>Makkah</td>\n",
       "      <td>75349</td>\n",
       "      <td>21.628962766</td>\n",
       "      <td>41.2636898334</td>\n",
       "    </tr>\n",
       "    <tr>\n",
       "      <th>2</th>\n",
       "      <td>1998</td>\n",
       "      <td>Makkah</td>\n",
       "      <td>86082</td>\n",
       "      <td>21.628962766</td>\n",
       "      <td>41.2636898334</td>\n",
       "    </tr>\n",
       "    <tr>\n",
       "      <th>3</th>\n",
       "      <td>2004</td>\n",
       "      <td>Makkah</td>\n",
       "      <td>86636</td>\n",
       "      <td>21.628962766</td>\n",
       "      <td>41.2636898334</td>\n",
       "    </tr>\n",
       "    <tr>\n",
       "      <th>4</th>\n",
       "      <td>2005</td>\n",
       "      <td>Makkah</td>\n",
       "      <td>65099</td>\n",
       "      <td>21.628962766</td>\n",
       "      <td>41.2636898334</td>\n",
       "    </tr>\n",
       "  </tbody>\n",
       "</table>\n",
       "</div>"
      ],
      "text/plain": [
       "   Year Administritive Area Driving Liceses             y               x\n",
       "0  2012              Makkah          143954  21.628962766   41.2636898334\n",
       "1  1994              Makkah           75349  21.628962766   41.2636898334\n",
       "2  1998              Makkah           86082  21.628962766   41.2636898334\n",
       "3  2004              Makkah           86636  21.628962766   41.2636898334\n",
       "4  2005              Makkah           65099  21.628962766   41.2636898334"
      ]
     },
     "execution_count": 21,
     "metadata": {},
     "output_type": "execute_result"
    }
   ],
   "source": [
    "KSA_driving_df.head(5)"
   ]
  },
  {
   "cell_type": "code",
   "execution_count": 22,
   "metadata": {
    "scrolled": false
   },
   "outputs": [
    {
     "data": {
      "text/html": [
       "<div>\n",
       "<style scoped>\n",
       "    .dataframe tbody tr th:only-of-type {\n",
       "        vertical-align: middle;\n",
       "    }\n",
       "\n",
       "    .dataframe tbody tr th {\n",
       "        vertical-align: top;\n",
       "    }\n",
       "\n",
       "    .dataframe thead th {\n",
       "        text-align: right;\n",
       "    }\n",
       "</style>\n",
       "<table border=\"1\" class=\"dataframe\">\n",
       "  <thead>\n",
       "    <tr style=\"text-align: right;\">\n",
       "      <th></th>\n",
       "      <th>Year</th>\n",
       "      <th>Region</th>\n",
       "      <th>Indicator</th>\n",
       "      <th>Value</th>\n",
       "      <th>y</th>\n",
       "      <th>x</th>\n",
       "    </tr>\n",
       "  </thead>\n",
       "  <tbody>\n",
       "    <tr>\n",
       "      <th>0</th>\n",
       "      <td>2016</td>\n",
       "      <td>Makkah</td>\n",
       "      <td>No. of Casualties - Injured</td>\n",
       "      <td>12383</td>\n",
       "      <td>21.628962766</td>\n",
       "      <td>41.2636898334</td>\n",
       "    </tr>\n",
       "    <tr>\n",
       "      <th>1</th>\n",
       "      <td>2016</td>\n",
       "      <td>Eastern Region</td>\n",
       "      <td>No. of Casualties - Dead</td>\n",
       "      <td>1113</td>\n",
       "      <td>23.2883307307</td>\n",
       "      <td>50.1478302439</td>\n",
       "    </tr>\n",
       "    <tr>\n",
       "      <th>2</th>\n",
       "      <td>2016</td>\n",
       "      <td>Tabouk</td>\n",
       "      <td>No. of Casualties - Dead</td>\n",
       "      <td>434</td>\n",
       "      <td>27.90165499</td>\n",
       "      <td>37.2598581394</td>\n",
       "    </tr>\n",
       "    <tr>\n",
       "      <th>3</th>\n",
       "      <td>2016</td>\n",
       "      <td>Hail</td>\n",
       "      <td>No. of Casualties - Dead</td>\n",
       "      <td>299</td>\n",
       "      <td>27.400845724</td>\n",
       "      <td>41.4406960508</td>\n",
       "    </tr>\n",
       "    <tr>\n",
       "      <th>4</th>\n",
       "      <td>2016</td>\n",
       "      <td>Hail</td>\n",
       "      <td>No. of Accidents</td>\n",
       "      <td>10199</td>\n",
       "      <td>27.400845724</td>\n",
       "      <td>41.4406960508</td>\n",
       "    </tr>\n",
       "  </tbody>\n",
       "</table>\n",
       "</div>"
      ],
      "text/plain": [
       "   Year          Region                    Indicator  Value              y  \\\n",
       "0  2016          Makkah  No. of Casualties - Injured  12383   21.628962766   \n",
       "1  2016  Eastern Region     No. of Casualties - Dead   1113  23.2883307307   \n",
       "2  2016          Tabouk     No. of Casualties - Dead    434    27.90165499   \n",
       "3  2016            Hail     No. of Casualties - Dead    299   27.400845724   \n",
       "4  2016            Hail             No. of Accidents  10199   27.400845724   \n",
       "\n",
       "                x  \n",
       "0   41.2636898334  \n",
       "1   50.1478302439  \n",
       "2   37.2598581394  \n",
       "3   41.4406960508  \n",
       "4   41.4406960508  "
      ]
     },
     "execution_count": 22,
     "metadata": {},
     "output_type": "execute_result"
    }
   ],
   "source": [
    "KSA_traffic_df.head(5)"
   ]
  },
  {
   "cell_type": "markdown",
   "metadata": {},
   "source": [
    "#### apply function that converts all numerical values  to an appropriate numeric type."
   ]
  },
  {
   "cell_type": "code",
   "execution_count": 24,
   "metadata": {},
   "outputs": [],
   "source": [
    "\n",
    "appro_dtype(KSA_traffic_df, 'y')\n",
    "appro_dtype(KSA_traffic_df, 'x')\n",
    "appro_dtype(KSA_traffic_df, 'Year')\n",
    "appro_dtype(KSA_traffic_df,'Value')\n",
    "\n",
    "appro_dtype(KSA_driving_df,'y')\n",
    "appro_dtype(KSA_driving_df,'x')\n",
    "appro_dtype(KSA_driving_df,'Year')\n",
    "appro_dtype(KSA_driving_df,'Driving Liceses')"
   ]
  },
  {
   "cell_type": "code",
   "execution_count": 27,
   "metadata": {},
   "outputs": [
    {
     "name": "stdout",
     "output_type": "stream",
     "text": [
      "dtypes of KSA traffic df:\n",
      " Year           int64\n",
      "Region        object\n",
      "Indicator     object\n",
      "Value          int64\n",
      "y            float64\n",
      "x            float64\n",
      "dtype: object \n",
      "\n",
      " dtypes of KSA driving df:\n",
      " Year                     int64\n",
      "Administritive Area     object\n",
      "Driving Liceses          int64\n",
      "y                      float64\n",
      "x                      float64\n",
      "dtype: object \n"
     ]
    }
   ],
   "source": [
    "print(\"dtypes of KSA traffic df:\\n {} \\n\\n dtypes of KSA driving df:\\n {} \".format(KSA_traffic_df.dtypes,KSA_driving_df.dtypes))"
   ]
  },
  {
   "cell_type": "code",
   "execution_count": 28,
   "metadata": {
    "scrolled": true
   },
   "outputs": [
    {
     "data": {
      "text/html": [
       "<div>\n",
       "<style scoped>\n",
       "    .dataframe tbody tr th:only-of-type {\n",
       "        vertical-align: middle;\n",
       "    }\n",
       "\n",
       "    .dataframe tbody tr th {\n",
       "        vertical-align: top;\n",
       "    }\n",
       "\n",
       "    .dataframe thead th {\n",
       "        text-align: right;\n",
       "    }\n",
       "</style>\n",
       "<table border=\"1\" class=\"dataframe\">\n",
       "  <thead>\n",
       "    <tr style=\"text-align: right;\">\n",
       "      <th></th>\n",
       "      <th>Year</th>\n",
       "      <th>Region</th>\n",
       "      <th>Indicator</th>\n",
       "      <th>Value</th>\n",
       "      <th>y</th>\n",
       "      <th>x</th>\n",
       "    </tr>\n",
       "  </thead>\n",
       "  <tbody>\n",
       "    <tr>\n",
       "      <th>0</th>\n",
       "      <td>2016</td>\n",
       "      <td>Makkah</td>\n",
       "      <td>No. of Casualties - Injured</td>\n",
       "      <td>12383</td>\n",
       "      <td>21.628963</td>\n",
       "      <td>41.263690</td>\n",
       "    </tr>\n",
       "    <tr>\n",
       "      <th>1</th>\n",
       "      <td>2016</td>\n",
       "      <td>Eastern Region</td>\n",
       "      <td>No. of Casualties - Dead</td>\n",
       "      <td>1113</td>\n",
       "      <td>23.288331</td>\n",
       "      <td>50.147830</td>\n",
       "    </tr>\n",
       "    <tr>\n",
       "      <th>2</th>\n",
       "      <td>2016</td>\n",
       "      <td>Tabouk</td>\n",
       "      <td>No. of Casualties - Dead</td>\n",
       "      <td>434</td>\n",
       "      <td>27.901655</td>\n",
       "      <td>37.259858</td>\n",
       "    </tr>\n",
       "    <tr>\n",
       "      <th>3</th>\n",
       "      <td>2016</td>\n",
       "      <td>Hail</td>\n",
       "      <td>No. of Casualties - Dead</td>\n",
       "      <td>299</td>\n",
       "      <td>27.400846</td>\n",
       "      <td>41.440696</td>\n",
       "    </tr>\n",
       "    <tr>\n",
       "      <th>4</th>\n",
       "      <td>2016</td>\n",
       "      <td>Hail</td>\n",
       "      <td>No. of Accidents</td>\n",
       "      <td>10199</td>\n",
       "      <td>27.400846</td>\n",
       "      <td>41.440696</td>\n",
       "    </tr>\n",
       "  </tbody>\n",
       "</table>\n",
       "</div>"
      ],
      "text/plain": [
       "   Year          Region                    Indicator  Value          y  \\\n",
       "0  2016          Makkah  No. of Casualties - Injured  12383  21.628963   \n",
       "1  2016  Eastern Region     No. of Casualties - Dead   1113  23.288331   \n",
       "2  2016          Tabouk     No. of Casualties - Dead    434  27.901655   \n",
       "3  2016            Hail     No. of Casualties - Dead    299  27.400846   \n",
       "4  2016            Hail             No. of Accidents  10199  27.400846   \n",
       "\n",
       "           x  \n",
       "0  41.263690  \n",
       "1  50.147830  \n",
       "2  37.259858  \n",
       "3  41.440696  \n",
       "4  41.440696  "
      ]
     },
     "execution_count": 28,
     "metadata": {},
     "output_type": "execute_result"
    }
   ],
   "source": [
    "KSA_traffic_df.head()"
   ]
  },
  {
   "cell_type": "code",
   "execution_count": 29,
   "metadata": {
    "scrolled": true
   },
   "outputs": [
    {
     "data": {
      "text/html": [
       "<div>\n",
       "<style scoped>\n",
       "    .dataframe tbody tr th:only-of-type {\n",
       "        vertical-align: middle;\n",
       "    }\n",
       "\n",
       "    .dataframe tbody tr th {\n",
       "        vertical-align: top;\n",
       "    }\n",
       "\n",
       "    .dataframe thead th {\n",
       "        text-align: right;\n",
       "    }\n",
       "</style>\n",
       "<table border=\"1\" class=\"dataframe\">\n",
       "  <thead>\n",
       "    <tr style=\"text-align: right;\">\n",
       "      <th></th>\n",
       "      <th>Year</th>\n",
       "      <th>Administritive Area</th>\n",
       "      <th>Driving Liceses</th>\n",
       "      <th>y</th>\n",
       "      <th>x</th>\n",
       "    </tr>\n",
       "  </thead>\n",
       "  <tbody>\n",
       "    <tr>\n",
       "      <th>0</th>\n",
       "      <td>2012</td>\n",
       "      <td>Makkah</td>\n",
       "      <td>143954</td>\n",
       "      <td>21.628963</td>\n",
       "      <td>41.26369</td>\n",
       "    </tr>\n",
       "    <tr>\n",
       "      <th>1</th>\n",
       "      <td>1994</td>\n",
       "      <td>Makkah</td>\n",
       "      <td>75349</td>\n",
       "      <td>21.628963</td>\n",
       "      <td>41.26369</td>\n",
       "    </tr>\n",
       "    <tr>\n",
       "      <th>2</th>\n",
       "      <td>1998</td>\n",
       "      <td>Makkah</td>\n",
       "      <td>86082</td>\n",
       "      <td>21.628963</td>\n",
       "      <td>41.26369</td>\n",
       "    </tr>\n",
       "    <tr>\n",
       "      <th>3</th>\n",
       "      <td>2004</td>\n",
       "      <td>Makkah</td>\n",
       "      <td>86636</td>\n",
       "      <td>21.628963</td>\n",
       "      <td>41.26369</td>\n",
       "    </tr>\n",
       "    <tr>\n",
       "      <th>4</th>\n",
       "      <td>2005</td>\n",
       "      <td>Makkah</td>\n",
       "      <td>65099</td>\n",
       "      <td>21.628963</td>\n",
       "      <td>41.26369</td>\n",
       "    </tr>\n",
       "  </tbody>\n",
       "</table>\n",
       "</div>"
      ],
      "text/plain": [
       "   Year Administritive Area  Driving Liceses          y         x\n",
       "0  2012              Makkah           143954  21.628963  41.26369\n",
       "1  1994              Makkah            75349  21.628963  41.26369\n",
       "2  1998              Makkah            86082  21.628963  41.26369\n",
       "3  2004              Makkah            86636  21.628963  41.26369\n",
       "4  2005              Makkah            65099  21.628963  41.26369"
      ]
     },
     "execution_count": 29,
     "metadata": {},
     "output_type": "execute_result"
    }
   ],
   "source": [
    "KSA_driving_df.head()"
   ]
  },
  {
   "cell_type": "markdown",
   "metadata": {},
   "source": [
    "---"
   ]
  },
  {
   "cell_type": "markdown",
   "metadata": {},
   "source": [
    "\n",
    "**Now I need to rename the columns to more expressive names and those names should be match for the samilaer columns in both  dfs becouse I will combining them soon.**\n",
    "\n",
    "Names should be : \n",
    "- All in lowercase.\n",
    "- Column names should not contain spaces. \n",
    "- Column names should be unique and informative."
   ]
  },
  {
   "cell_type": "markdown",
   "metadata": {},
   "source": [
    "The result.."
   ]
  },
  {
   "cell_type": "code",
   "execution_count": 32,
   "metadata": {
    "scrolled": true
   },
   "outputs": [
    {
     "data": {
      "text/html": [
       "<div>\n",
       "<style scoped>\n",
       "    .dataframe tbody tr th:only-of-type {\n",
       "        vertical-align: middle;\n",
       "    }\n",
       "\n",
       "    .dataframe tbody tr th {\n",
       "        vertical-align: top;\n",
       "    }\n",
       "\n",
       "    .dataframe thead th {\n",
       "        text-align: right;\n",
       "    }\n",
       "</style>\n",
       "<table border=\"1\" class=\"dataframe\">\n",
       "  <thead>\n",
       "    <tr style=\"text-align: right;\">\n",
       "      <th></th>\n",
       "      <th>Year</th>\n",
       "      <th>Region</th>\n",
       "      <th>Type_of_Accidents</th>\n",
       "      <th>num_of_Accidents</th>\n",
       "      <th>longitude_y</th>\n",
       "      <th>latitude_x</th>\n",
       "    </tr>\n",
       "  </thead>\n",
       "  <tbody>\n",
       "    <tr>\n",
       "      <th>0</th>\n",
       "      <td>2016</td>\n",
       "      <td>Makkah</td>\n",
       "      <td>No. of Casualties - Injured</td>\n",
       "      <td>12383</td>\n",
       "      <td>21.628963</td>\n",
       "      <td>41.263690</td>\n",
       "    </tr>\n",
       "    <tr>\n",
       "      <th>1</th>\n",
       "      <td>2016</td>\n",
       "      <td>Eastern Region</td>\n",
       "      <td>No. of Casualties - Dead</td>\n",
       "      <td>1113</td>\n",
       "      <td>23.288331</td>\n",
       "      <td>50.147830</td>\n",
       "    </tr>\n",
       "    <tr>\n",
       "      <th>2</th>\n",
       "      <td>2016</td>\n",
       "      <td>Tabouk</td>\n",
       "      <td>No. of Casualties - Dead</td>\n",
       "      <td>434</td>\n",
       "      <td>27.901655</td>\n",
       "      <td>37.259858</td>\n",
       "    </tr>\n",
       "    <tr>\n",
       "      <th>3</th>\n",
       "      <td>2016</td>\n",
       "      <td>Hail</td>\n",
       "      <td>No. of Casualties - Dead</td>\n",
       "      <td>299</td>\n",
       "      <td>27.400846</td>\n",
       "      <td>41.440696</td>\n",
       "    </tr>\n",
       "    <tr>\n",
       "      <th>4</th>\n",
       "      <td>2016</td>\n",
       "      <td>Hail</td>\n",
       "      <td>No. of Accidents</td>\n",
       "      <td>10199</td>\n",
       "      <td>27.400846</td>\n",
       "      <td>41.440696</td>\n",
       "    </tr>\n",
       "  </tbody>\n",
       "</table>\n",
       "</div>"
      ],
      "text/plain": [
       "   Year          Region            Type_of_Accidents  num_of_Accidents  \\\n",
       "0  2016          Makkah  No. of Casualties - Injured             12383   \n",
       "1  2016  Eastern Region     No. of Casualties - Dead              1113   \n",
       "2  2016          Tabouk     No. of Casualties - Dead               434   \n",
       "3  2016            Hail     No. of Casualties - Dead               299   \n",
       "4  2016            Hail             No. of Accidents             10199   \n",
       "\n",
       "   longitude_y  latitude_x  \n",
       "0    21.628963   41.263690  \n",
       "1    23.288331   50.147830  \n",
       "2    27.901655   37.259858  \n",
       "3    27.400846   41.440696  \n",
       "4    27.400846   41.440696  "
      ]
     },
     "execution_count": 32,
     "metadata": {},
     "output_type": "execute_result"
    }
   ],
   "source": [
    "KSA_traffic_df.head(5)"
   ]
  },
  {
   "cell_type": "code",
   "execution_count": 33,
   "metadata": {},
   "outputs": [
    {
     "data": {
      "text/html": [
       "<div>\n",
       "<style scoped>\n",
       "    .dataframe tbody tr th:only-of-type {\n",
       "        vertical-align: middle;\n",
       "    }\n",
       "\n",
       "    .dataframe tbody tr th {\n",
       "        vertical-align: top;\n",
       "    }\n",
       "\n",
       "    .dataframe thead th {\n",
       "        text-align: right;\n",
       "    }\n",
       "</style>\n",
       "<table border=\"1\" class=\"dataframe\">\n",
       "  <thead>\n",
       "    <tr style=\"text-align: right;\">\n",
       "      <th></th>\n",
       "      <th>Year</th>\n",
       "      <th>Region</th>\n",
       "      <th>Driving_Liceses</th>\n",
       "      <th>longitude_y</th>\n",
       "      <th>latitude_x</th>\n",
       "    </tr>\n",
       "  </thead>\n",
       "  <tbody>\n",
       "    <tr>\n",
       "      <th>0</th>\n",
       "      <td>2012</td>\n",
       "      <td>Makkah</td>\n",
       "      <td>143954</td>\n",
       "      <td>21.628963</td>\n",
       "      <td>41.26369</td>\n",
       "    </tr>\n",
       "    <tr>\n",
       "      <th>1</th>\n",
       "      <td>1994</td>\n",
       "      <td>Makkah</td>\n",
       "      <td>75349</td>\n",
       "      <td>21.628963</td>\n",
       "      <td>41.26369</td>\n",
       "    </tr>\n",
       "    <tr>\n",
       "      <th>2</th>\n",
       "      <td>1998</td>\n",
       "      <td>Makkah</td>\n",
       "      <td>86082</td>\n",
       "      <td>21.628963</td>\n",
       "      <td>41.26369</td>\n",
       "    </tr>\n",
       "    <tr>\n",
       "      <th>3</th>\n",
       "      <td>2004</td>\n",
       "      <td>Makkah</td>\n",
       "      <td>86636</td>\n",
       "      <td>21.628963</td>\n",
       "      <td>41.26369</td>\n",
       "    </tr>\n",
       "    <tr>\n",
       "      <th>4</th>\n",
       "      <td>2005</td>\n",
       "      <td>Makkah</td>\n",
       "      <td>65099</td>\n",
       "      <td>21.628963</td>\n",
       "      <td>41.26369</td>\n",
       "    </tr>\n",
       "  </tbody>\n",
       "</table>\n",
       "</div>"
      ],
      "text/plain": [
       "   Year  Region  Driving_Liceses  longitude_y  latitude_x\n",
       "0  2012  Makkah           143954    21.628963    41.26369\n",
       "1  1994  Makkah            75349    21.628963    41.26369\n",
       "2  1998  Makkah            86082    21.628963    41.26369\n",
       "3  2004  Makkah            86636    21.628963    41.26369\n",
       "4  2005  Makkah            65099    21.628963    41.26369"
      ]
     },
     "execution_count": 33,
     "metadata": {},
     "output_type": "execute_result"
    }
   ],
   "source": [
    "KSA_driving_df.head(5)"
   ]
  },
  {
   "cell_type": "markdown",
   "metadata": {},
   "source": [
    "**Now all the data had been fixed we can have our data dictionary.**\n",
    "- A data dictionary provides a quick overview of features/variables/columns, alongside data types and descriptions."
   ]
  },
  {
   "cell_type": "markdown",
   "metadata": {},
   "source": [
    "**Driving License df :** "
   ]
  },
  {
   "cell_type": "markdown",
   "metadata": {},
   "source": [
    "|Feature|Type|Dataset|Description|\n",
    "|---|---|---|---|\n",
    "|Year|int|Driving_Licenses|The year where the Licenses issued |\n",
    "|Region|str|Driving_Licenses| 13 region of Saudi Arabia|\n",
    "|Driving_Liceses|int|Driving_Licenses|the number of Licenses|\n",
    "|longitude_y |float|Driving_Licenses| y_Coordinate for a region|\n",
    "|latitude_x|float|Driving_Licenses|x_Coordinate for a region|\n"
   ]
  },
  {
   "cell_type": "markdown",
   "metadata": {},
   "source": [
    "**Traffic Accidents df :**"
   ]
  },
  {
   "cell_type": "markdown",
   "metadata": {},
   "source": [
    "|Feature|Type|Dataset|Description|\n",
    "|---|---|---|---|\n",
    "|Year|int|Traffic_Accidents\t|The year where the accident happend|\n",
    "|Region|str|Traffic_Accidents| 13 region of Saudi Arabia|\n",
    "|Type_of_Accidents|str|Traffic_Accidents|ether it's # of Casualties or # of  of Accidents|\n",
    "|longitude_y |float|Traffic_Accidents| y_Coordinate for a region|\n",
    "|latitude_x|float|Traffic_Accidents|x_Coordinate for a region|\n"
   ]
  },
  {
   "cell_type": "markdown",
   "metadata": {},
   "source": [
    "---"
   ]
  },
  {
   "cell_type": "markdown",
   "metadata": {},
   "source": [
    "### Working in the rows \n",
    "\n",
    "1-  **Dropping unnecessary rows**\n",
    "\n",
    "**ACTION** : there is unreasonable rows in region column in both dfs named (Total), I will **drop them all**. "
   ]
  },
  {
   "cell_type": "markdown",
   "metadata": {},
   "source": [
    "before.. "
   ]
  },
  {
   "cell_type": "code",
   "execution_count": 39,
   "metadata": {
    "scrolled": true
   },
   "outputs": [
    {
     "data": {
      "text/plain": [
       "array(['Makkah', 'Eastern Region', 'Tabouk', 'Hail', 'Northern Boarder',\n",
       "       'Jazan', 'Al-Jouf', 'Total', 'Al-Baaha', 'Riyadh', 'Madinah',\n",
       "       'Qassim', 'Najran', 'Asir'], dtype=object)"
      ]
     },
     "execution_count": 39,
     "metadata": {},
     "output_type": "execute_result"
    }
   ],
   "source": [
    "#code\n",
    "KSA_traffic_df.Region.unique() #there is region named Total"
   ]
  },
  {
   "cell_type": "markdown",
   "metadata": {},
   "source": [
    "After droping.. "
   ]
  },
  {
   "cell_type": "code",
   "execution_count": 45,
   "metadata": {},
   "outputs": [
    {
     "data": {
      "text/plain": [
       "array(['Makkah', 'Eastern Region', 'Tabouk', 'Hail', 'Northern Boarder',\n",
       "       'Jazan', 'Al-Jouf', 'Al-Baaha', 'Riyadh', 'Madinah', 'Qassim',\n",
       "       'Najran', 'Asir'], dtype=object)"
      ]
     },
     "execution_count": 45,
     "metadata": {},
     "output_type": "execute_result"
    }
   ],
   "source": [
    "KSA_traffic_df.Region.unique()"
   ]
  },
  {
   "cell_type": "markdown",
   "metadata": {},
   "source": [
    "Before.."
   ]
  },
  {
   "cell_type": "code",
   "execution_count": null,
   "metadata": {},
   "outputs": [],
   "source": [
    "KSA_driving_df.Region.unique()"
   ]
  },
  {
   "cell_type": "markdown",
   "metadata": {},
   "source": [
    "After dropping.. "
   ]
  },
  {
   "cell_type": "code",
   "execution_count": 44,
   "metadata": {
    "scrolled": true
   },
   "outputs": [
    {
     "data": {
      "text/plain": [
       "array(['Makkah', 'Madinah', 'Al-Qaseem', 'Eastern', 'Assir', 'Tabouk',\n",
       "       'Hail', 'Northern Boarder', 'Jazan', 'Najran', 'Al-Baha',\n",
       "       'Al-Jouf', 'Riyadh'], dtype=object)"
      ]
     },
     "execution_count": 44,
     "metadata": {},
     "output_type": "execute_result"
    }
   ],
   "source": [
    "KSA_driving_df.Region.unique()"
   ]
  },
  {
   "cell_type": "markdown",
   "metadata": {},
   "source": [
    "2-  **Unmatch names for the cities in both dfs** \n",
    "\n",
    "\n",
    "|driving|traffic|\n",
    "|---|---|\n",
    "|Al-Qaseem|Qassim|\n",
    "|Eastern|Eastern Region|\n",
    "|Assir|Asir|\n",
    "|Al-Baha|Al-Baaha|\n",
    "\n",
    "\n",
    "**ACTION** : Adopt one nomanation in both dfs and use `apply` with `lambda` to apply changes. \n"
   ]
  },
  {
   "cell_type": "code",
   "execution_count": 46,
   "metadata": {},
   "outputs": [],
   "source": [
    "KSA_traffic_df['Region']= KSA_traffic_df['Region'].apply(lambda x: x.replace('Qassim','Al-Qaseem'))\n",
    "KSA_traffic_df['Region']= KSA_traffic_df['Region'].apply(lambda x: x.replace('Al-Baaha','Al-Baha'))\n",
    "KSA_traffic_df['Region']= KSA_traffic_df['Region'].apply(lambda x: x.replace('Asir','Assir'))"
   ]
  },
  {
   "cell_type": "code",
   "execution_count": 47,
   "metadata": {},
   "outputs": [],
   "source": [
    "KSA_driving_df['Region']= KSA_driving_df['Region'].apply(lambda x: x.replace('Eastern','Eastern Region'))"
   ]
  },
  {
   "cell_type": "code",
   "execution_count": 48,
   "metadata": {
    "scrolled": true
   },
   "outputs": [
    {
     "data": {
      "text/plain": [
       "array(['Makkah', 'Eastern Region', 'Tabouk', 'Hail', 'Northern Boarder',\n",
       "       'Jazan', 'Al-Jouf', 'Al-Baha', 'Riyadh', 'Madinah', 'Al-Qaseem',\n",
       "       'Najran', 'Assir'], dtype=object)"
      ]
     },
     "execution_count": 48,
     "metadata": {},
     "output_type": "execute_result"
    }
   ],
   "source": [
    "KSA_traffic_df.Region.unique()"
   ]
  },
  {
   "cell_type": "code",
   "execution_count": 49,
   "metadata": {},
   "outputs": [
    {
     "data": {
      "text/plain": [
       "array(['Makkah', 'Madinah', 'Al-Qaseem', 'Eastern Region', 'Assir',\n",
       "       'Tabouk', 'Hail', 'Northern Boarder', 'Jazan', 'Najran', 'Al-Baha',\n",
       "       'Al-Jouf', 'Riyadh'], dtype=object)"
      ]
     },
     "execution_count": 49,
     "metadata": {},
     "output_type": "execute_result"
    }
   ],
   "source": [
    "KSA_driving_df.Region.unique()"
   ]
  },
  {
   "cell_type": "markdown",
   "metadata": {},
   "source": [
    "---"
   ]
  },
  {
   "cell_type": "markdown",
   "metadata": {},
   "source": [
    "#### 10b. Changing formats\n",
    "Which format would work best for both dataframes? Transform the datasets to the same format before merging in the next task."
   ]
  },
  {
   "cell_type": "code",
   "execution_count": null,
   "metadata": {},
   "outputs": [],
   "source": []
  },
  {
   "cell_type": "code",
   "execution_count": null,
   "metadata": {},
   "outputs": [],
   "source": [
    "KSA_driving_df.info()"
   ]
  },
  {
   "cell_type": "code",
   "execution_count": null,
   "metadata": {
    "scrolled": true
   },
   "outputs": [],
   "source": [
    "traffic_wide_pv = pd.pivot_table(KSA_traffic_df, columns=['Type_of_Accidents'], values='num_of_Accidents', index=['Year','Region'])"
   ]
  },
  {
   "cell_type": "code",
   "execution_count": null,
   "metadata": {},
   "outputs": [],
   "source": [
    "traffic_wide_pv"
   ]
  },
  {
   "cell_type": "markdown",
   "metadata": {},
   "source": [
    "#### 11. Merge dataframes\n",
    "\n",
    "Join the Driving Licenses & Traffic Accidents dataframes using the **region** and **year** in each dataframe as the key. Assign this to a new variable. Which join should you use to preserve the most data?"
   ]
  },
  {
   "cell_type": "code",
   "execution_count": null,
   "metadata": {
    "scrolled": true
   },
   "outputs": [],
   "source": [
    "KSA_driving_df.Region.unique()"
   ]
  },
  {
   "cell_type": "code",
   "execution_count": null,
   "metadata": {
    "scrolled": true
   },
   "outputs": [],
   "source": [
    "KSA_traffic_df.Region.unique()"
   ]
  },
  {
   "cell_type": "code",
   "execution_count": null,
   "metadata": {
    "scrolled": false
   },
   "outputs": [],
   "source": [
    "KSA_traffic_df"
   ]
  },
  {
   "cell_type": "code",
   "execution_count": null,
   "metadata": {},
   "outputs": [],
   "source": [
    "merged_wide =  pd.merge(traffic_wide_pv,KSA_driving_df, on=['Year','Region'],how='outer')"
   ]
  },
  {
   "cell_type": "code",
   "execution_count": null,
   "metadata": {
    "scrolled": true
   },
   "outputs": [],
   "source": [
    "merged_wide.head()"
   ]
  },
  {
   "cell_type": "code",
   "execution_count": null,
   "metadata": {},
   "outputs": [],
   "source": [
    "merged_wide.rename(columns={'No. of Accidents':'No_of_Accidents'},inplace=True)"
   ]
  },
  {
   "cell_type": "markdown",
   "metadata": {},
   "source": [
    "#### 12. Save your cleaned, merged dataframe\n",
    "\n",
    "Use a relative path to save out your data as `combined_datasets.csv`."
   ]
  },
  {
   "cell_type": "code",
   "execution_count": null,
   "metadata": {},
   "outputs": [],
   "source": [
    "#code\n",
    "merged_wide.to_csv('combined_datasets.csv')"
   ]
  },
  {
   "cell_type": "markdown",
   "metadata": {},
   "source": [
    "## Exploratory Data Analysis\n",
    "\n",
    "\n",
    "### Summary Statistics\n",
    "Transpose the output of pandas `describe` method to create a quick overview of each numeric feature."
   ]
  },
  {
   "cell_type": "code",
   "execution_count": null,
   "metadata": {},
   "outputs": [],
   "source": [
    "df=merged_wide.describe()\n",
    "df.transpose()"
   ]
  },
  {
   "cell_type": "markdown",
   "metadata": {},
   "source": [
    "#### Manually calculate standard deviation\n",
    "\n",
    "$$\\sigma = \\sqrt{\\frac{1}{n}\\sum_{i=1}^n(x_i - \\mu)^2}$$\n",
    "\n",
    "- Write a function to calculate standard deviation using the formula above"
   ]
  },
  {
   "cell_type": "code",
   "execution_count": null,
   "metadata": {},
   "outputs": [],
   "source": [
    "merged_wide.describe()"
   ]
  },
  {
   "cell_type": "code",
   "execution_count": null,
   "metadata": {},
   "outputs": [],
   "source": [
    "#code\n",
    "import math\n",
    "def std_dev(df_name,col_name):\n",
    "    input_dict = dict(df_name[col_name])\n",
    "    mean_ = df_name[col_name].mean()\n",
    "    for key, val in input_dict.items():\n",
    "        under_sqrt = (val - mean_) ** 2\n",
    "        sqrt_value = [np.sqrt(under_sqrt)]\n",
    "        #output_dict =  dict()\n",
    "        return(sqrt_value)\n",
    "        #myDict = { k:v for (k,v) in zip(col_name, sqrt_value)} \n",
    "std_dev(merged_wide,'No. of Accidents')"
   ]
  },
  {
   "cell_type": "code",
   "execution_count": null,
   "metadata": {},
   "outputs": [],
   "source": [
    "def mean(col_name):\n",
    "    return float(sum(col_name) / len(col_name))\n",
    "\n",
    "def variance(col_name):\n",
    "    mean_ = mean(col_name)\n",
    "    return mean([(x - mean_) ** 2 for x in col_name])\n",
    "\n",
    "def stddev(col_name):\n",
    "    \n",
    "    return np.sqrt(variance(col_name))\n",
    "\n",
    "#myDict = {x: x**2 for x in [1,2,3,4,5]} \n",
    "stddev(merged_wide['Driving_Liceses'])"
   ]
  },
  {
   "cell_type": "markdown",
   "metadata": {},
   "source": [
    "- Use a **dictionary comprehension** to apply your standard deviation function to each numeric column in the dataframe.  **No loops**  \n",
    "- Assign the output to variable `sd` as a dictionary where: \n",
    "    - Each column name is now a key \n",
    "    - That standard deviation of the column is the value \n",
    "     \n",
    "*Example Output :* `{'Driving_Licenses_x': 120, 'Traffic_Accidents_x': 120, ...}`"
   ]
  },
  {
   "cell_type": "code",
   "execution_count": null,
   "metadata": {},
   "outputs": [],
   "source": [
    "#Code:\n",
    "sd={i:stddev(Only_Numeric)[i]  for i in Only_Numeric}\n",
    "sd"
   ]
  },
  {
   "cell_type": "markdown",
   "metadata": {},
   "source": [
    "Do your manually calculated standard deviations match up with the output from pandas `describe`? What about numpy's `std` method?"
   ]
  },
  {
   "cell_type": "markdown",
   "metadata": {},
   "source": [
    "Answer:\n",
    "first of all it get me an 'nan' value for the std of '#_of_Accidents' column but ingenral the pandas values are haigher than\n"
   ]
  },
  {
   "cell_type": "markdown",
   "metadata": {},
   "source": [
    "#### Investigate trends in the data\n",
    "Using sorting and/or masking (along with the `.head` method to not print our entire dataframe), consider the following questions:\n",
    "\n",
    "- Which regions have the highest and lowest Driving Licenses based on years (1993 - 2017)\n",
    "- Which regions have the highest and lowest mean Traffic Accidents numbers for years (2016 - 2017)\n",
    "- What are the regions that have more Driving Licenses issued in each year than the year average?\n",
    "- What are the regions that have more Traffic Accidents happened in each year than the year average?\n",
    "\n",
    "Based on what you've just observed, have you identified any regions that you're especially interested in? **Make a note of these and state *why* you think they're interesting**.\n",
    "\n",
    "**You should comment on your findings at each step in a markdown cell below your code block**. Make sure you include at least one example of sorting your dataframe by a column, and one example of using boolean filtering (i.e., masking) to select a subset of the dataframe."
   ]
  },
  {
   "cell_type": "markdown",
   "metadata": {},
   "source": [
    "###### 1 - Which regions have the highest and lowest Driving Licenses based on years (1993 - 2017)"
   ]
  },
  {
   "cell_type": "code",
   "execution_count": null,
   "metadata": {
    "scrolled": true
   },
   "outputs": [],
   "source": [
    "merged_wide.head()"
   ]
  },
  {
   "cell_type": "code",
   "execution_count": null,
   "metadata": {
    "scrolled": true
   },
   "outputs": [],
   "source": [
    "merged_wide.nlargest(10,'Driving_Liceses')[['Year','Region','Driving_Liceses']]"
   ]
  },
  {
   "cell_type": "code",
   "execution_count": null,
   "metadata": {},
   "outputs": [],
   "source": [
    "merged_wide.nsmallest(1,'Driving_Liceses')[['Year','Region','Driving_Liceses']]"
   ]
  },
  {
   "cell_type": "markdown",
   "metadata": {},
   "source": [
    "######  2 - Which regions have the highest and lowest mean Traffic Accidents numbers for years (2016 - 2017)"
   ]
  },
  {
   "cell_type": "code",
   "execution_count": null,
   "metadata": {
    "scrolled": true
   },
   "outputs": [],
   "source": [
    "df_only_016 =  merged_wide[merged_wide['Year'] == 2016 ].groupby('Region').agg({'No_of_Accidents':['mean']}) \n",
    "df_only_016.reset_index(inplace=True) "
   ]
  },
  {
   "cell_type": "code",
   "execution_count": null,
   "metadata": {},
   "outputs": [],
   "source": [
    "df_only_017 =  merged_wide[merged_wide['Year'] == 2017 ].groupby('Region').agg({'No_of_Accidents':['mean']}) \n",
    "df_only_017.reset_index(inplace=True)"
   ]
  },
  {
   "cell_type": "code",
   "execution_count": null,
   "metadata": {},
   "outputs": [],
   "source": [
    "df_only_017.drop(columns={'Region'},inplace=True)"
   ]
  },
  {
   "cell_type": "code",
   "execution_count": null,
   "metadata": {},
   "outputs": [],
   "source": [
    "df_only_017.rename(columns = {'No_of_Accidents mean':'mean_2017'},inplace=True)"
   ]
  },
  {
   "cell_type": "code",
   "execution_count": null,
   "metadata": {},
   "outputs": [],
   "source": [
    "df_mean_016_017 = pd.DataFrame(df_only_016)"
   ]
  },
  {
   "cell_type": "code",
   "execution_count": null,
   "metadata": {},
   "outputs": [],
   "source": [
    "#df_only_017"
   ]
  },
  {
   "cell_type": "code",
   "execution_count": null,
   "metadata": {},
   "outputs": [],
   "source": [
    "df_mean_016_017.rename(columns = {'mean':'','No_of_Accidents':'mean_accidents_2016'},inplace=True)"
   ]
  },
  {
   "cell_type": "code",
   "execution_count": null,
   "metadata": {},
   "outputs": [],
   "source": [
    "df_mean_016_017['mean_accidents_2017'] = df_only_017['No_of_Accidents']"
   ]
  },
  {
   "cell_type": "markdown",
   "metadata": {},
   "source": [
    "So let's desply the dataframe"
   ]
  },
  {
   "cell_type": "code",
   "execution_count": null,
   "metadata": {},
   "outputs": [],
   "source": [
    "df_mean_016_017.head(2)"
   ]
  },
  {
   "cell_type": "markdown",
   "metadata": {},
   "source": [
    "now let's check it"
   ]
  },
  {
   "cell_type": "code",
   "execution_count": null,
   "metadata": {
    "scrolled": false
   },
   "outputs": [],
   "source": [
    "df_mean_016_017.nlargest(1,'mean_accidents_2017')[['Region','mean_accidents_2017']]"
   ]
  },
  {
   "cell_type": "code",
   "execution_count": null,
   "metadata": {
    "scrolled": true
   },
   "outputs": [],
   "source": [
    "df_mean_016_017.nlargest(1,'mean_accidents_2016')[['Region','mean_accidents_2016']]"
   ]
  },
  {
   "cell_type": "code",
   "execution_count": null,
   "metadata": {
    "scrolled": true
   },
   "outputs": [],
   "source": [
    "df_mean_016_017.nsmallest(1,'mean_accidents_2017')[['Region','mean_accidents_2017']]"
   ]
  },
  {
   "cell_type": "code",
   "execution_count": null,
   "metadata": {},
   "outputs": [],
   "source": [
    "df_mean_016_017.nsmallest(1,'mean_accidents_2016')[['Region','mean_accidents_2016']]"
   ]
  },
  {
   "cell_type": "markdown",
   "metadata": {},
   "source": [
    "###### - What are the regions that have more Driving Licenses issued in each year than the year average?"
   ]
  },
  {
   "cell_type": "code",
   "execution_count": null,
   "metadata": {},
   "outputs": [],
   "source": [
    "merged_wide.head()"
   ]
  },
  {
   "cell_type": "code",
   "execution_count": null,
   "metadata": {},
   "outputs": [],
   "source": [
    "merged_wide_2 = merged_wide"
   ]
  },
  {
   "cell_type": "code",
   "execution_count": null,
   "metadata": {},
   "outputs": [],
   "source": [
    "df_by_year = merged_wide_2 .groupby('Year')"
   ]
  },
  {
   "cell_type": "code",
   "execution_count": null,
   "metadata": {},
   "outputs": [],
   "source": [
    "merged_wide_2['DL_mean']=df_by_year['Driving_Liceses'].transform(np.mean)"
   ]
  },
  {
   "cell_type": "code",
   "execution_count": null,
   "metadata": {},
   "outputs": [],
   "source": [
    "final_df =merged_wide_2[(merged_wide_2.Driving_Liceses> merged_wide_2.DL_mean)][['Year','Region','Driving_Liceses','DL_mean']].sort_values('Year')\n",
    "final_df.Region.unique()"
   ]
  },
  {
   "cell_type": "markdown",
   "metadata": {},
   "source": [
    "###### 4 - What are the regions that have more Traffic Accidents happened in each year than the year average"
   ]
  },
  {
   "cell_type": "code",
   "execution_count": null,
   "metadata": {},
   "outputs": [],
   "source": [
    "\n",
    "#df_by_year = merged_wide_2 .groupby('Year')\n",
    "\n",
    "merged_wide_2['Acc_mean']=df_by_year['No_of_Accidents'].transform(np.mean)\n",
    "\n",
    "final_df =merged_wide_2[(merged_wide_2.No_of_Accidents > merged_wide_2.Acc_mean)][['Year','Region','Driving_Liceses','Acc_mean']].sort_values('Year')\n",
    "final_df.Region.unique()"
   ]
  },
  {
   "cell_type": "markdown",
   "metadata": {},
   "source": [
    "## Visualize the data\n",
    "\n",
    "There's not a magic bullet recommendation for the right number of plots to understand a given dataset, but visualizing your data is *always* a good idea. Not only does it allow you to quickly convey your findings (even if you have a non-technical audience), it will often reveal trends in your data that escaped you when you were looking only at numbers.\n",
    "\n",
    "Some recommendations on plotting:\n",
    "- Plots have titles\n",
    "- Plots have axis labels\n",
    "- Plots have appropriate tick labels\n",
    "- All text is legible in a plot\n",
    "- Plots demonstrate meaningful and valid relationships\n",
    "- Plots are interpreted to aid understanding\n",
    "\n",
    "There is such a thing as too many plots, and there are a *lot* of bad plots. You might make some! (But hopefully not with the guided prompts below)."
   ]
  },
  {
   "cell_type": "markdown",
   "metadata": {},
   "source": [
    "#### Use Seaborn's heatmap with pandas `.corr()` to visualize correlations between all numeric features\n",
    "\n",
    "Heatmaps are generally not appropriate for presentations, and should often be excluded from reports as they can be visually overwhelming. **However**, they can be extremely useful in identify relationships of potential interest (as well as identifying potential collinearity before modeling).\n",
    "\n",
    "*example*:\n",
    "```python\n",
    "sns.heatmap(df.corr())\n",
    "```\n",
    "\n",
    "Please take time to format your output, adding a title. Look through some of the additional arguments and options. (Axis labels aren't really necessary, as long as the title is informative)."
   ]
  },
  {
   "cell_type": "code",
   "execution_count": null,
   "metadata": {},
   "outputs": [],
   "source": [
    "def correlation_heat_map(df):\n",
    "    corrs = df.corr()\n",
    "\n",
    "    # Set the default matplotlib figure size:\n",
    "    fig, ax = plt.subplots(figsize=(11,7))\n",
    "\n",
    "    # Generate a mask for the upper triangle (taken from the Seaborn example gallery):\n",
    "    mask = np.zeros_like(corrs, dtype=np.bool)\n",
    "    mask[np.triu_indices_from(mask)] = True\n",
    "\n",
    "    # Plot the heatmap with Seaborn.\n",
    "    # Assign the matplotlib axis the function returns. This allow us to resize the labels.\n",
    "    ax = sns.heatmap(corrs, mask=mask, annot=True, vmin=-1, vmax=1)\n",
    "\n",
    "    # Resize the labels.\n",
    "    ax.set_xticklabels(ax.xaxis.get_ticklabels(), fontsize=14, rotation=30)\n",
    "    \n",
    "    ax.set_yticklabels(ax.yaxis.get_ticklabels(), fontsize=15, rotation=0)\n",
    "\n",
    "    # If you put plt.show() at the bottom, it prevents those useless printouts from matplotlib.\n",
    "    plt.show()"
   ]
  },
  {
   "cell_type": "code",
   "execution_count": null,
   "metadata": {},
   "outputs": [],
   "source": [
    "correlation_heat_map(merged_wide.corr())"
   ]
  },
  {
   "cell_type": "markdown",
   "metadata": {},
   "source": [
    "#### Define a custom function to subplot histograms\n",
    "\n",
    "We should write a function that will take the names of 2+ columns and subplot histograms. While you can use pandas plotting or Seaborn here, matplotlib gives you greater control over all aspects of your plots.\n",
    "\n",
    "[Helpful Link for Plotting Multiple Figures](https://matplotlib.org/users/pyplot_tutorial.html#working-with-multiple-figures-and-axes)\n",
    "\n",
    "Here's some starter code:"
   ]
  },
  {
   "cell_type": "code",
   "execution_count": null,
   "metadata": {},
   "outputs": [],
   "source": [
    "def subplot_histograms(dataframe, list_of_columns, list_of_titles, list_of_xlabels):\n",
    "    nrows = int(np.ceil(len(list_of_columns)/2)) # Makes sure you have enough rows\n",
    "    fig, ax = plt.subplots(nrows=nrows, ncols=2) # You'll want to specify your figsize\n",
    "    ax = ax.ravel() # Ravel turns a matrix into a vector, which is easier to iterate\n",
    "    for i, column in enumerate(list_of_columns): # Gives us an index value to get into all our lists\n",
    "        ax[i].hist(dataframe[column])\n",
    "        if i == 0:\n",
    "            ax[i].set_title(list_of_titles[i])\n",
    "            ax[i].set_xlabel(list_of_xlabels[i])\n",
    "        else:\n",
    "            ax[i].set_title(list_of_titles[i])\n",
    "            ax[i].set_xlabel(list_of_xlabels[i])\n",
    "        # feel free to add more settings\n",
    "        # Set titles, labels, etc here for each subplot"
   ]
  },
  {
   "cell_type": "markdown",
   "metadata": {},
   "source": [
    "#### Plot and interpret histograms \n",
    "For each of the following:\n",
    "- Driving Licenses number\n",
    "- Traffic Accidents number\n",
    "\n",
    "Please plot two additional histograms that will help with your understanding of the data"
   ]
  },
  {
   "cell_type": "code",
   "execution_count": null,
   "metadata": {
    "scrolled": true
   },
   "outputs": [],
   "source": [
    "subplot_histograms(merged_wide,['Driving_Liceses','No_of_Accidents'],['Driving_Liceses','num_of_Accidents',],['Driving_Liceses','num_of_Accidents'])"
   ]
  },
  {
   "cell_type": "markdown",
   "metadata": {},
   "source": [
    "#### Plot and interpret scatter plots\n",
    "\n",
    "For each of the following:\n",
    "- Driving Licenses vs. Traffic Accidents for 2017\n",
    "- Driving Licenses vs. Traffic Accidents for 2016\n",
    "- Driving Licenses for 2016 vs 2017\n",
    "- Traffic Accidents for 2016 vs 2017\n",
    "\n",
    "Plot the two variables against each other using matplotlib or Seaborn\n",
    "\n",
    "Your plots should show:\n",
    "- Two clearly labeled axes\n",
    "- A proper title\n",
    "- Using colors and symbols that are clear and unmistakable\n",
    "\n",
    "**Feel free to write a custom function, and subplot if you'd like.** Functions save both time and space.\n"
   ]
  },
  {
   "cell_type": "code",
   "execution_count": null,
   "metadata": {
    "scrolled": false
   },
   "outputs": [],
   "source": [
    "merged_wide.describe()"
   ]
  },
  {
   "cell_type": "markdown",
   "metadata": {},
   "source": [
    "#### Driving Licenses vs. Traffic Accidents for 2017"
   ]
  },
  {
   "cell_type": "code",
   "execution_count": null,
   "metadata": {},
   "outputs": [],
   "source": [
    "traffic_accident_2017_full =merged_wide[merged_wide['Year']==2017]['No_of_Accidents']"
   ]
  },
  {
   "cell_type": "code",
   "execution_count": null,
   "metadata": {},
   "outputs": [],
   "source": [
    "drive_license_2017_full = merged_wide[merged_wide['Year']==2017]['Driving_Liceses']"
   ]
  },
  {
   "cell_type": "code",
   "execution_count": null,
   "metadata": {},
   "outputs": [],
   "source": [
    "#plt.plot(traffic_accident_2017_full,drive_license_2017_full);\n",
    "plt.scatter(traffic_accident_2017_full,drive_license_2017_full);\n",
    "plt.xlabel('Driving_Liceses_2017');\n",
    "plt.ylabel('No. of Accidents_2017');"
   ]
  },
  {
   "cell_type": "markdown",
   "metadata": {},
   "source": [
    "I've notice the outliers so I'm gonna remove them and plot it again to take a deeper look on the the rest data "
   ]
  },
  {
   "cell_type": "code",
   "execution_count": null,
   "metadata": {},
   "outputs": [],
   "source": [
    "first_scatter =  merged_wide[merged_wide['Year']==2017]"
   ]
  },
  {
   "cell_type": "code",
   "execution_count": null,
   "metadata": {
    "scrolled": true
   },
   "outputs": [],
   "source": [
    "first_scatter.drop([21,17,24],inplace=True)"
   ]
  },
  {
   "cell_type": "code",
   "execution_count": null,
   "metadata": {
    "scrolled": true
   },
   "outputs": [],
   "source": [
    "traffic_accident_2017 =first_scatter[first_scatter['Year']==2017]['No_of_Accidents']"
   ]
  },
  {
   "cell_type": "code",
   "execution_count": null,
   "metadata": {},
   "outputs": [],
   "source": [
    "drive_license_2017 = first_scatter[first_scatter['Year']==2017]['Driving_Liceses']"
   ]
  },
  {
   "cell_type": "code",
   "execution_count": null,
   "metadata": {
    "scrolled": true
   },
   "outputs": [],
   "source": [
    "# Code\n",
    "plt.scatter(drive_license_2017,traffic_accident_2017);\n",
    "plt.xlabel('Driving_Liceses_2017');\n",
    "plt.ylabel('No. of Accidents_2017');"
   ]
  },
  {
   "cell_type": "markdown",
   "metadata": {},
   "source": [
    "#### Driving Licenses vs. Traffic Accidents for 2016"
   ]
  },
  {
   "cell_type": "code",
   "execution_count": null,
   "metadata": {},
   "outputs": [],
   "source": [
    "drive_license_2016_full = merged_wide[merged_wide['Year']==2016]['Driving_Liceses']"
   ]
  },
  {
   "cell_type": "code",
   "execution_count": null,
   "metadata": {},
   "outputs": [],
   "source": [
    "traffic_accident_2016_full = merged_wide[merged_wide['Year']==2016]['No_of_Accidents']"
   ]
  },
  {
   "cell_type": "code",
   "execution_count": null,
   "metadata": {
    "scrolled": false
   },
   "outputs": [],
   "source": [
    "plt.scatter(drive_license_2016_full,traffic_accident_2016_full);\n",
    "plt.xlabel('Driving_Liceses');\n",
    "plt.ylabel('No. of Accidents');"
   ]
  },
  {
   "cell_type": "code",
   "execution_count": null,
   "metadata": {},
   "outputs": [],
   "source": [
    "second_scatter = merged_wide[merged_wide['Year']==2016]"
   ]
  },
  {
   "cell_type": "code",
   "execution_count": null,
   "metadata": {
    "scrolled": true
   },
   "outputs": [],
   "source": [
    "second_scatter.drop([4,11,8],inplace=True)"
   ]
  },
  {
   "cell_type": "code",
   "execution_count": null,
   "metadata": {},
   "outputs": [],
   "source": [
    "drive_license_2016 = second_scatter[second_scatter['Year']==2016]['Driving_Liceses']\n",
    "traffic_accident_2016 = second_scatter[second_scatter['Year']==2016]['No_of_Accidents']"
   ]
  },
  {
   "cell_type": "code",
   "execution_count": null,
   "metadata": {},
   "outputs": [],
   "source": [
    "plt.scatter(drive_license_2016,traffic_accident_2016);\n",
    "plt.xlabel('Driving_Liceses_2016');\n",
    "plt.ylabel('No. of Accidents_2016');"
   ]
  },
  {
   "cell_type": "markdown",
   "metadata": {},
   "source": [
    "#### Driving Licenses for 2016 vs 2017"
   ]
  },
  {
   "cell_type": "code",
   "execution_count": null,
   "metadata": {
    "scrolled": true
   },
   "outputs": [],
   "source": [
    "plt.scatter(drive_license_2016,drive_license_2017);\n",
    "plt.xlabel('Driving_Liceses');\n",
    "plt.ylabel('No. of Accidents');"
   ]
  },
  {
   "cell_type": "markdown",
   "metadata": {},
   "source": [
    "#### Traffic Accidents for 2016 vs 2017"
   ]
  },
  {
   "cell_type": "code",
   "execution_count": null,
   "metadata": {},
   "outputs": [],
   "source": [
    "plt.scatter(traffic_accident_2016,traffic_accident_2017);\n",
    "plt.xlabel('Driving_Liceses');\n",
    "plt.ylabel('No. of Accidents');"
   ]
  },
  {
   "cell_type": "markdown",
   "metadata": {},
   "source": [
    "#### Plot and interpret boxplots\n",
    "\n",
    "For each numeric variable in the dataframe create a boxplot using Seaborn. Boxplots demonstrate central tendency and spread in variables. In a certain sense, these are somewhat redundant with histograms, but you may be better able to identify clear outliers or differences in IQR, etc.\n",
    "\n",
    "Multiple values can be plotted to a single boxplot as long as they are of the same relative scale (meaning they have similar min/max values).\n",
    "\n",
    "Each boxplot should:\n",
    "- Only include variables of a similar scale\n",
    "- Have clear labels for each variable\n",
    "- Have appropriate titles and labels"
   ]
  },
  {
   "cell_type": "code",
   "execution_count": null,
   "metadata": {
    "scrolled": true
   },
   "outputs": [],
   "source": [
    "fig, ax = plt.subplots(figsize=(24, 4))\n",
    "sns.boxplot(x='Year',  orient='h', fliersize=8, linewidth=1.5, saturation=1, ax=ax ,data=merged_wide);"
   ]
  },
  {
   "cell_type": "code",
   "execution_count": null,
   "metadata": {
    "scrolled": false
   },
   "outputs": [],
   "source": [
    "fig, ax = plt.subplots(figsize=(24,4))\n",
    "sns.boxplot(x='No. of Casualties - Injured',  orient='h', fliersize=8, linewidth=1.5, saturation=1, ax=ax ,data=merged_wide);"
   ]
  },
  {
   "cell_type": "code",
   "execution_count": null,
   "metadata": {
    "scrolled": false
   },
   "outputs": [],
   "source": [
    "fig, ax = plt.subplots(figsize=(24,4))\n",
    "sns.boxplot(x='No. of Casualties - Dead',  orient='h', fliersize=8, linewidth=1.5, saturation=1, ax=ax ,data=merged_wide);"
   ]
  },
  {
   "cell_type": "code",
   "execution_count": null,
   "metadata": {},
   "outputs": [],
   "source": [
    "fig, ax = plt.subplots(figsize=(24,4))\n",
    "sns.boxplot(x='Driving_Liceses',  orient='h', fliersize=8, linewidth=1.5, saturation=1, ax=ax ,data=merged_wide);"
   ]
  },
  {
   "cell_type": "markdown",
   "metadata": {},
   "source": [
    "##### I'I  scale the values just to make them all in the same magnitude "
   ]
  },
  {
   "cell_type": "code",
   "execution_count": null,
   "metadata": {},
   "outputs": [],
   "source": [
    "from sklearn.preprocessing import StandardScaler # importing standard scaler\n",
    "s = StandardScaler() # initiate scaler"
   ]
  },
  {
   "cell_type": "code",
   "execution_count": null,
   "metadata": {},
   "outputs": [],
   "source": [
    "scaled_df = pd.DataFrame(s.fit_transform(merged_wide[[ 'No_of_Accidents','No. of Casualties - Dead','No. of Casualties - Injured','Driving_Liceses']]) ,columns=[ 'No. of Accidents',\n",
    "       'No_of_Casualties - Dead', 'No. of Casualties - Injured',\n",
    "       'licenses'])"
   ]
  },
  {
   "cell_type": "code",
   "execution_count": null,
   "metadata": {},
   "outputs": [],
   "source": [
    "fig = plt.figure(figsize=(12,6))\n",
    "ax = fig.gca()\n",
    "\n",
    "sns.boxplot(data=scaled_df, orient='h', fliersize=3, linewidth=4, \n",
    "                 saturation=1, ax=ax)\n",
    "\n",
    "ax.set_title('All numerical variables boxplot\\n')\n",
    "plt.show() # plotting boxplot for all numerical columns"
   ]
  },
  {
   "cell_type": "markdown",
   "metadata": {},
   "source": [
    "#### Feel free to do additional plots below\n",
    "*(do research and choose your own chart types & variables)*\n",
    "\n",
    "Are there any additional trends or relationships you haven't explored? Was there something interesting you saw that you'd like to dive further into? It's likely that there are a few more plots you might want to generate to support your narrative and recommendations that you are building toward. **As always, make sure you're interpreting your plots as you go**."
   ]
  },
  {
   "cell_type": "code",
   "execution_count": null,
   "metadata": {},
   "outputs": [],
   "source": [
    "fig = plt.figure(figsize=(12,6))\n",
    "ax = fig.gca()\n",
    "\n",
    "sns.boxplot(x=scaled_df['No_of_Casualties - Dead'],y=merged_wide['Region'],data=scaled_df, orient='h', fliersize=1, linewidth=2, \n",
    "                 saturation=0.5, ax=ax) #hue=merged_wide['Region']\n",
    "\n",
    "ax.set_title('\\n')\n",
    "plt.show()"
   ]
  },
  {
   "cell_type": "code",
   "execution_count": null,
   "metadata": {},
   "outputs": [],
   "source": [
    "f = plt.figure(figsize=(25,9))\n",
    "sns.barplot(merged_wide.groupby(['Region']).sum().sort_values(by = 'No_of_Accidents', ascending= False).index,\n",
    "           merged_wide.groupby(['Region']).sum().sort_values(by = 'No_of_Accidents', ascending= False)['No_of_Accidents'],saturation=5,palette='Blues_d');"
   ]
  },
  {
   "cell_type": "code",
   "execution_count": null,
   "metadata": {},
   "outputs": [],
   "source": [
    "\n",
    "f = plt.figure(figsize=(25,9)) # plotting the dataframe to get better look\n",
    "sns.barplot(merged_wide.groupby(['Region']).sum().sort_values(by = 'Driving_Liceses', ascending= False).index,\n",
    "           merged_wide.groupby(['Region']).sum().sort_values(by = 'Driving_Liceses', ascending= False)['Driving_Liceses']);"
   ]
  },
  {
   "cell_type": "markdown",
   "metadata": {},
   "source": [
    "## Descriptive and Inferential Statistics"
   ]
  },
  {
   "cell_type": "markdown",
   "metadata": {},
   "source": [
    "#### Summarizing Distributions\n",
    "\n",
    "Above, we used pandas `describe` to provide quick summary statistics of our numeric columns. We also demonstrated many visual relationships.\n",
    "\n",
    "As data scientists, having a complete understanding of data is imperative prior to modeling.\n",
    "\n",
    "While we will continue to build our analytic tools, we know that measures of *central tendency*, *spread*, and *shape/skewness* provide a quick summary of distributions.\n",
    "\n",
    "For each variable in your data, summarize the underlying distributions (in words & statistics)\n",
    " - Be thorough in your verbal description of these distributions.\n",
    " - Be sure to back up these summaries with statistics."
   ]
  },
  {
   "cell_type": "markdown",
   "metadata": {},
   "source": [
    "###### Answers:"
   ]
  },
  {
   "cell_type": "code",
   "execution_count": null,
   "metadata": {},
   "outputs": [],
   "source": [
    "merged_wide.describe()"
   ]
  },
  {
   "cell_type": "markdown",
   "metadata": {},
   "source": [
    "#### Measures of central tendency:"
   ]
  },
  {
   "cell_type": "markdown",
   "metadata": {},
   "source": [
    "as we notice that the mean of all of `'No. of Accidents'`,`No. of Casualties -  Dead`, `No. of Casualties - Injured`  \n",
    "are greater than the median. I'll Visualize one of the column "
   ]
  },
  {
   "cell_type": "code",
   "execution_count": null,
   "metadata": {},
   "outputs": [],
   "source": [
    "var_tend = merged_wide['No_of_Accidents']\n",
    "mean=var_tend.mean()\n",
    "median=var_tend.median()\n",
    "mode=var_tend.mode()\n",
    "print('Mean: ',mean,'\\nMedian: ',median,'\\nMode: ',mode[0])\n"
   ]
  },
  {
   "cell_type": "code",
   "execution_count": null,
   "metadata": {
    "scrolled": true
   },
   "outputs": [],
   "source": [
    "plt.figure(figsize=(10,5))\n",
    "plt.hist(var_tend,bins=100,color='grey')\n",
    "plt.axvline(mean,color='red',label='Mean')\n",
    "plt.axvline(median,color='yellow',label='Median')\n",
    "plt.axvline(mode[0],color='green',label='Mode')\n",
    "plt.xlabel('No_of_Accidents')\n",
    "plt.ylabel('Frequency')\n",
    "plt.legend()\n",
    "plt.show()"
   ]
  },
  {
   "cell_type": "markdown",
   "metadata": {},
   "source": [
    "##### the output/Conclution:"
   ]
  },
  {
   "cell_type": "markdown",
   "metadata": {},
   "source": [
    " all the numeric columns are positivily skewd "
   ]
  },
  {
   "cell_type": "markdown",
   "metadata": {},
   "source": [
    "##### Measures of dispersion"
   ]
  },
  {
   "cell_type": "code",
   "execution_count": null,
   "metadata": {},
   "outputs": [],
   "source": [
    "import numpy as np\n",
    "import pandas as pd\n",
    "import matplotlib.pyplot as plt\n",
    "import scipy.stats as stats"
   ]
  },
  {
   "cell_type": "code",
   "execution_count": null,
   "metadata": {
    "scrolled": true
   },
   "outputs": [],
   "source": [
    "merged_wide['Driving_Liceses'].skew()"
   ]
  },
  {
   "cell_type": "code",
   "execution_count": null,
   "metadata": {},
   "outputs": [],
   "source": [
    "merged_wide['Driving_Liceses'].kurt()"
   ]
  },
  {
   "cell_type": "code",
   "execution_count": null,
   "metadata": {
    "scrolled": true
   },
   "outputs": [],
   "source": [
    "subplot_histograms(merged_wide, ['No_of_Accidents','No. of Casualties - Dead','No. of Casualties - Injured','Driving_Liceses'],\n",
    "                  ['No_of_Accidents','No. of Casualties - Dead','No. of Casualties - Injured','Driving_Liceses'],\n",
    "                  ['No_of_Accidents','No. of Casualties - Dead','No. of Casualties - Injured',''])"
   ]
  },
  {
   "cell_type": "raw",
   "metadata": {},
   "source": [
    "h = np.asarray(merged_wide['Driving_Liceses'])\n",
    "h = sorted(h)\n",
    " \n",
    "#use the scipy stats module to fit a normal distirbution with same mean and standard deviation\n",
    "fit = stats.norm.pdf(h, np.mean(h), np.std(h)) \n",
    "\n",
    "plt.plot(h,fit,'-',linewidth = 2,label=\"Normal distribution with same mean and var\")\n",
    "plt.hist(h,normed=True,bins = 100,label=\"Actual distribution\")      \n",
    "plt.legend()\n",
    "plt.show()"
   ]
  },
  {
   "cell_type": "markdown",
   "metadata": {},
   "source": [
    "##### the output/Conclution:"
   ]
  },
  {
   "cell_type": "markdown",
   "metadata": {},
   "source": [
    " all the numeric columns except the 'Driving_Liceses' column are NOT normaily distrbuted  "
   ]
  },
  {
   "cell_type": "markdown",
   "metadata": {},
   "source": [
    "##### Measures to describe shape of distribution"
   ]
  },
  {
   "cell_type": "markdown",
   "metadata": {},
   "source": [
    "###### if we did it for one column : "
   ]
  },
  {
   "cell_type": "code",
   "execution_count": null,
   "metadata": {},
   "outputs": [],
   "source": [
    "import numpy as np\n",
    "import pandas as pd\n",
    "from math import sqrt\n",
    "import matplotlib.pyplot as plt\n",
    "from math import sqrt"
   ]
  },
  {
   "cell_type": "code",
   "execution_count": null,
   "metadata": {},
   "outputs": [],
   "source": [
    "merged_wide['No_of_Accidents'].max()-merged_wide['No_of_Accidents'].min()"
   ]
  },
  {
   "cell_type": "code",
   "execution_count": null,
   "metadata": {},
   "outputs": [],
   "source": [
    "merged_wide['No_of_Accidents'].var()"
   ]
  },
  {
   "cell_type": "code",
   "execution_count": null,
   "metadata": {
    "scrolled": true
   },
   "outputs": [],
   "source": [
    "sqrt(merged_wide['No_of_Accidents'].var())"
   ]
  },
  {
   "cell_type": "code",
   "execution_count": null,
   "metadata": {},
   "outputs": [],
   "source": [
    "#50th percentile i.e median(q2)\n",
    "merged_wide['No_of_Accidents'].quantile(0.5)"
   ]
  },
  {
   "cell_type": "code",
   "execution_count": null,
   "metadata": {},
   "outputs": [],
   "source": [
    "#75th percentile\n",
    "q3 = merged_wide['No_of_Accidents'].quantile(0.75)\n",
    "q3"
   ]
  },
  {
   "cell_type": "code",
   "execution_count": null,
   "metadata": {},
   "outputs": [],
   "source": [
    "#25th percentile\n",
    "q1 = merged_wide['No_of_Accidents'].quantile(0.25)\n",
    "q1"
   ]
  },
  {
   "cell_type": "code",
   "execution_count": null,
   "metadata": {},
   "outputs": [],
   "source": [
    "#interquartile range\n",
    "IQR = q3  - q1\n",
    "IQR"
   ]
  },
  {
   "cell_type": "code",
   "execution_count": null,
   "metadata": {},
   "outputs": [],
   "source": [
    "fig, ax = plt.subplots(figsize=(25, 4))\n",
    "sns.boxplot(x='No_of_Accidents',orient='h', fliersize=8, linewidth=2, saturation=6, ax=ax ,data=merged_wide);"
   ]
  },
  {
   "cell_type": "code",
   "execution_count": null,
   "metadata": {},
   "outputs": [],
   "source": [
    "plt.rcParams['figure.figsize']= (10,10)"
   ]
  },
  {
   "cell_type": "markdown",
   "metadata": {},
   "source": [
    "#### We generally assuming that data we sample from a population will be normally distributed. Do we observe this trend?"
   ]
  },
  {
   "cell_type": "markdown",
   "metadata": {},
   "source": [
    "Answer: No this assumtion is -in this case - not true "
   ]
  },
  {
   "cell_type": "markdown",
   "metadata": {},
   "source": [
    "Does This Assumption Hold for:\n",
    "    - Driving Licenses\n",
    "    - Traffic Accidents\n",
    "Explain your answers for each distribution and how you think this will affect estimates made from these data."
   ]
  },
  {
   "cell_type": "markdown",
   "metadata": {},
   "source": [
    "Answer:\n",
    "\n",
    "The data rarely is normal distributed it has outliers. However,we need to deal with outliers befor. Since the set of data is not big the distribution will be skewed. The higher the data the more normal distribution will be."
   ]
  },
  {
   "cell_type": "markdown",
   "metadata": {},
   "source": [
    "#### Statistical Evaluation of Distributions \n",
    "\n",
    "**If you feel it's appropriate**, using methods we discussed in class, run hypothesis tests to compare variables of interest in our dataset. "
   ]
  },
  {
   "cell_type": "code",
   "execution_count": null,
   "metadata": {},
   "outputs": [],
   "source": [
    "# Code\n",
    "\n",
    "from scipy.stats import normaltest, skew\n",
    "\n",
    "# Your code here\n",
    "numeric_columns = ['No_of_Accidents','No. of Casualties - Dead','No. of Casualties - Injured','Driving_Liceses']\n",
    "for i in numeric_columns:\n",
    "    if normaltest(merged_wide[i].dropna())[1]<0.01: \n",
    "             print(\"The null hypothesis can be rejected for the {} feature \".format(i))\n",
    "    else:\n",
    "             print(\"The null hypothesis cannot be rejected for the {} feature \".format(i))"
   ]
  },
  {
   "cell_type": "code",
   "execution_count": null,
   "metadata": {
    "scrolled": true
   },
   "outputs": [],
   "source": [
    "for i in numeric_columns:\n",
    "    if skew(merged_wide[i].dropna())>0: # ckecking all columns and see the skweness\n",
    "             print(\"distribution is skewed positive for the {} feature \".format(i))\n",
    "    elif skew(merged_wide[i].dropna())<0:\n",
    "             print(\"distribution is skewed negative for the {} feature \".format(i))\n",
    "    else:\n",
    "             print(\"no skeweness for the {} feature \".format(i))"
   ]
  },
  {
   "cell_type": "markdown",
   "metadata": {},
   "source": [
    "## Outside Research"
   ]
  },
  {
   "cell_type": "markdown",
   "metadata": {},
   "source": [
    "Based upon your observations, choose **three** regions that demonstrate interesting trends in the number of driving licenses and traffic accidents. Spend some time doing outside research on provincial and central policies that might influence these rates, and summarize your findings below. **Feel free to go back and create new plots that highlight these states of interest**. If you bring in any outside tables or charts, make sure you are explicit about having borrowed them. If you quote any text, make sure that it renders as being quoted. (Make sure that you cite your sources -- check with you local instructor for citation preferences)."
   ]
  },
  {
   "cell_type": "code",
   "execution_count": null,
   "metadata": {},
   "outputs": [],
   "source": [
    "search_data.groupby(['Region','Year']).agg({'No_of_Accidents':['sum'],'No. of Casualties - Dead':['sum'],'No. of Casualties - Injured':['sum']},inplace=True) "
   ]
  },
  {
   "cell_type": "code",
   "execution_count": null,
   "metadata": {},
   "outputs": [],
   "source": [
    "search_data.nlargest(10,'No_of_Accidents')[['Region','Year']]"
   ]
  },
  {
   "cell_type": "code",
   "execution_count": null,
   "metadata": {},
   "outputs": [],
   "source": [
    "search_data.nsmallest(10,'No_of_Accidents')[['Region','Year']]"
   ]
  },
  {
   "cell_type": "raw",
   "metadata": {},
   "source": [
    "I looked down ih the smallest region to study how it comes to be that small and I found something quit interresting! \n",
    "for \"Al-Baha\" :\n",
    "from 1993 till 2017 no more than 10,000 LD had been issued for each year, I would if the data of accidents was covering more the 2017- 2016 acciedents to be able to study the patternig"
   ]
  },
  {
   "cell_type": "code",
   "execution_count": null,
   "metadata": {
    "scrolled": true
   },
   "outputs": [],
   "source": [
    "merged_wide[merged_wide['Region']== 'Al-Baha']"
   ]
  },
  {
   "cell_type": "code",
   "execution_count": null,
   "metadata": {
    "scrolled": true
   },
   "outputs": [],
   "source": [
    "merged_wide[merged_wide['Region']== 'Al-Baha'][merged_wide['Year']>=2016]"
   ]
  },
  {
   "cell_type": "raw",
   "metadata": {},
   "source": [
    "but I found something interesting in Najran ! \n",
    "there was a HUGE! gab between 2016 and 2017 in a matter of issuing the Licences \n",
    "for 2016 it was 2153 licenes but for 2017 it was 13825 licenses !! and upove of all of these the number of accidents,Dead,Injured\n",
    "was alomst the same for puth years ?\n",
    "which make me think that ?\n",
    "how it comes to have all of this accidents and Casualties with this low number of licenese (for 2016)\n",
    "and what happend there an over a year that make this big number of license."
   ]
  },
  {
   "cell_type": "code",
   "execution_count": null,
   "metadata": {
    "scrolled": true
   },
   "outputs": [],
   "source": [
    "najran_ =merged_wide[merged_wide['Region']== 'Najran'][merged_wide['Year']>=2016]"
   ]
  },
  {
   "cell_type": "code",
   "execution_count": null,
   "metadata": {
    "scrolled": true
   },
   "outputs": [],
   "source": [
    "najran_"
   ]
  },
  {
   "cell_type": "code",
   "execution_count": null,
   "metadata": {},
   "outputs": [],
   "source": [
    "Also notice that all the regions had less number of accidents in 2017 than 2016 except Makkah, Madina and Al Jouf\n",
    "and Al-Jouf specifically in this year (2017) had less Licenses Issued"
   ]
  },
  {
   "cell_type": "code",
   "execution_count": null,
   "metadata": {
    "scrolled": true
   },
   "outputs": [],
   "source": [
    "merged_wide.Region.unique()"
   ]
  },
  {
   "cell_type": "markdown",
   "metadata": {},
   "source": [
    "## Conclusions and Recommendations"
   ]
  },
  {
   "cell_type": "markdown",
   "metadata": {},
   "source": [
    "- Based on your exploration of the data, what are you key takeaways and recommendations?\n",
    "- Are there additional data you desire that would better inform your investigations?"
   ]
  },
  {
   "cell_type": "markdown",
   "metadata": {},
   "source": [
    "Answer:"
   ]
  }
 ],
 "metadata": {
  "anaconda-cloud": {},
  "kernelspec": {
   "display_name": "Python 3",
   "language": "python",
   "name": "python3"
  },
  "language_info": {
   "codemirror_mode": {
    "name": "ipython",
    "version": 3
   },
   "file_extension": ".py",
   "mimetype": "text/x-python",
   "name": "python",
   "nbconvert_exporter": "python",
   "pygments_lexer": "ipython3",
   "version": "3.7.4"
  }
 },
 "nbformat": 4,
 "nbformat_minor": 2
}
